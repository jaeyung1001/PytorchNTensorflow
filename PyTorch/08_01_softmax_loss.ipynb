{
 "cells": [
  {
   "cell_type": "code",
   "execution_count": 3,
   "metadata": {},
   "outputs": [],
   "source": [
    "import torch\n",
    "import torch.nn as nn\n",
    "import torch.nn.functional as F\n",
    "import torch.optim as optim\n",
    "from torchvision import datasets, transforms\n",
    "from torch.autograd import Variable\n",
    "import numpy as np"
   ]
  },
  {
   "cell_type": "code",
   "execution_count": 4,
   "metadata": {},
   "outputs": [
    {
     "name": "stdout",
     "output_type": "stream",
     "text": [
      "loss1 =  0.35667494393873245\n",
      "loss2 =  2.3025850929940455\n"
     ]
    }
   ],
   "source": [
    "y = np.array([1,0,0])\n",
    "\n",
    "y_pred1 = np.array([0.7, 0.2, 0.1])\n",
    "y_pred2 = np.array([0.1, 0.3, 0.6])\n",
    "print(\"loss1 = \", np.sum(-y * np.log(y_pred1)))\n",
    "print(\"loss2 = \", np.sum(-y * np.log(y_pred2)))"
   ]
  },
  {
   "cell_type": "markdown",
   "metadata": {},
   "source": [
    "#### Softmax + CrossEntropy (logSoftmax + NLLLoss)"
   ]
  },
  {
   "cell_type": "code",
   "execution_count": 5,
   "metadata": {
    "collapsed": true
   },
   "outputs": [],
   "source": [
    "loss = nn.CrossEntropyLoss()"
   ]
  },
  {
   "cell_type": "markdown",
   "metadata": {},
   "source": [
    "## Pytorch 로 구현해보자!"
   ]
  },
  {
   "cell_type": "code",
   "execution_count": 8,
   "metadata": {},
   "outputs": [],
   "source": [
    "y = Variable(torch.LongTensor([0]), requires_grad=False)"
   ]
  },
  {
   "cell_type": "code",
   "execution_count": 11,
   "metadata": {},
   "outputs": [
    {
     "name": "stdout",
     "output_type": "stream",
     "text": [
      "Pytorch Loss1 =  tensor(0.4170) \n",
      "Pytorch Loss2 =  tensor(1.8406)\n",
      "y_pred1=  tensor([ 0])\n",
      "y_pred2=  tensor([ 1])\n"
     ]
    }
   ],
   "source": [
    "y_pred1 = Variable(torch.Tensor([[2.0, 1.0, 0.1]]))\n",
    "y_pred2 = Variable(torch.Tensor([[0.5, 2.0, 0.3]]))\n",
    "\n",
    "l1 = loss(y_pred1, y)\n",
    "l2 = loss(y_pred2, y)\n",
    "\n",
    "print(\"Pytorch Loss1 = \", l1.data, \"\\nPytorch Loss2 = \", l2.data)\n",
    "\n",
    "print(\"y_pred1= \", torch.max(y_pred1.data, 1)[1])\n",
    "print(\"y_pred2= \", torch.max(y_pred2.data, 1)[1])"
   ]
  },
  {
   "cell_type": "markdown",
   "metadata": {},
   "source": [
    "**torch.max** => Tensor중에 max값을 가진 index를 반환"
   ]
  },
  {
   "cell_type": "code",
   "execution_count": 13,
   "metadata": {},
   "outputs": [
    {
     "name": "stdout",
     "output_type": "stream",
     "text": [
      "Batch Loss1 =  tensor(0.4966) \n",
      "Batch Loss2= tensor(1.2389)\n"
     ]
    }
   ],
   "source": [
    "y = Variable(torch.LongTensor([2,0,1]), requires_grad=False)\n",
    "\n",
    "y_pred1 = Variable(torch.Tensor([[0.1, 0.2, 0.9],\n",
    "                                [1.1, 0.1, 0.2],\n",
    "                                [0.2, 2.1, 0.1]]))\n",
    "\n",
    "y_pred2 = Variable(torch.Tensor([[0.8, 0.2, 0.3],\n",
    "                                [0.2, 0.3, 0.5],\n",
    "                               [0.2, 0.2, 0.5]]))\n",
    "\n",
    "l1 = loss(y_pred1, y)\n",
    "l2 = loss(y_pred2, y)\n",
    "\n",
    "print(\"Batch Loss1 = \", l1.data, \"\\nBatch Loss2=\", l2.data)"
   ]
  }
 ],
 "metadata": {
  "kernelspec": {
   "display_name": "PyTorch",
   "language": "python",
   "name": "pytorch"
  },
  "language_info": {
   "codemirror_mode": {
    "name": "ipython",
    "version": 3
   },
   "file_extension": ".py",
   "mimetype": "text/x-python",
   "name": "python",
   "nbconvert_exporter": "python",
   "pygments_lexer": "ipython3",
   "version": "3.6.5"
  }
 },
 "nbformat": 4,
 "nbformat_minor": 2
}
