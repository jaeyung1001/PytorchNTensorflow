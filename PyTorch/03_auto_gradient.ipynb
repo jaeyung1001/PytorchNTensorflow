{
 "cells": [
  {
   "cell_type": "code",
   "execution_count": 1,
   "metadata": {
    "collapsed": true
   },
   "outputs": [],
   "source": [
    "import torch\n",
    "from torch.autograd import Variable"
   ]
  },
  {
   "cell_type": "code",
   "execution_count": 3,
   "metadata": {},
   "outputs": [],
   "source": [
    "x_data = [1.0, 2.0, 3.0]\n",
    "y_data = [2.0, 4.0, 6.0]\n",
    "\n",
    "w = Variable(torch.Tensor([1.0]), requires_grad = True)"
   ]
  },
  {
   "cell_type": "code",
   "execution_count": 4,
   "metadata": {
    "collapsed": true
   },
   "outputs": [],
   "source": [
    "def forward(x):\n",
    "    return x*w\n",
    "\n",
    "def loss(x,y):\n",
    "    y_pred = forward(x)\n",
    "    return (y_pred - y) * (y_pred -y)"
   ]
  },
  {
   "cell_type": "markdown",
   "metadata": {},
   "source": [
    "## Before training"
   ]
  },
  {
   "cell_type": "code",
   "execution_count": 5,
   "metadata": {},
   "outputs": [
    {
     "name": "stdout",
     "output_type": "stream",
     "text": [
      "predict (before training) 4 tensor(4.)\n"
     ]
    }
   ],
   "source": [
    "print(\"predict (before training)\", 4, forward(4).data[0])"
   ]
  },
  {
   "cell_type": "markdown",
   "metadata": {},
   "source": [
    "## Training loop"
   ]
  },
  {
   "cell_type": "code",
   "execution_count": 7,
   "metadata": {},
   "outputs": [
    {
     "name": "stdout",
     "output_type": "stream",
     "text": [
      "\tgrad:  1.0 2.0 tensor(1.00000e-02 *\n",
      "       -9.7568)\n",
      "\tgrad:  2.0 4.0 tensor(-0.3825)\n",
      "\tgrad:  3.0 6.0 tensor(-0.7917)\n",
      "progress: 0 tensor(1.00000e-02 *\n",
      "       1.7411)\n",
      "\tgrad:  1.0 2.0 tensor(1.00000e-02 *\n",
      "       -7.2133)\n",
      "\tgrad:  2.0 4.0 tensor(-0.2828)\n",
      "\tgrad:  3.0 6.0 tensor(-0.5853)\n",
      "progress: 1 tensor(1.00000e-03 *\n",
      "       9.5165)\n",
      "\tgrad:  1.0 2.0 tensor(1.00000e-02 *\n",
      "       -5.3329)\n",
      "\tgrad:  2.0 4.0 tensor(-0.2090)\n",
      "\tgrad:  3.0 6.0 tensor(-0.4327)\n",
      "progress: 2 tensor(1.00000e-03 *\n",
      "       5.2015)\n",
      "\tgrad:  1.0 2.0 tensor(1.00000e-02 *\n",
      "       -3.9426)\n",
      "\tgrad:  2.0 4.0 tensor(-0.1546)\n",
      "\tgrad:  3.0 6.0 tensor(-0.3199)\n",
      "progress: 3 tensor(1.00000e-03 *\n",
      "       2.8430)\n",
      "\tgrad:  1.0 2.0 tensor(1.00000e-02 *\n",
      "       -2.9148)\n",
      "\tgrad:  2.0 4.0 tensor(-0.1143)\n",
      "\tgrad:  3.0 6.0 tensor(-0.2365)\n",
      "progress: 4 tensor(1.00000e-03 *\n",
      "       1.5539)\n",
      "\tgrad:  1.0 2.0 tensor(1.00000e-02 *\n",
      "       -2.1550)\n",
      "\tgrad:  2.0 4.0 tensor(1.00000e-02 *\n",
      "       -8.4475)\n",
      "\tgrad:  3.0 6.0 tensor(-0.1749)\n",
      "progress: 5 tensor(1.00000e-04 *\n",
      "       8.4936)\n",
      "\tgrad:  1.0 2.0 tensor(1.00000e-02 *\n",
      "       -1.5932)\n",
      "\tgrad:  2.0 4.0 tensor(1.00000e-02 *\n",
      "       -6.2453)\n",
      "\tgrad:  3.0 6.0 tensor(-0.1293)\n",
      "progress: 6 tensor(1.00000e-04 *\n",
      "       4.6425)\n",
      "\tgrad:  1.0 2.0 tensor(1.00000e-02 *\n",
      "       -1.1779)\n",
      "\tgrad:  2.0 4.0 tensor(1.00000e-02 *\n",
      "       -4.6172)\n",
      "\tgrad:  3.0 6.0 tensor(1.00000e-02 *\n",
      "       -9.5575)\n",
      "progress: 7 tensor(1.00000e-04 *\n",
      "       2.5374)\n",
      "\tgrad:  1.0 2.0 tensor(1.00000e-03 *\n",
      "       -8.7082)\n",
      "\tgrad:  2.0 4.0 tensor(1.00000e-02 *\n",
      "       -3.4136)\n",
      "\tgrad:  3.0 6.0 tensor(1.00000e-02 *\n",
      "       -7.0662)\n",
      "progress: 8 tensor(1.00000e-04 *\n",
      "       1.3870)\n",
      "\tgrad:  1.0 2.0 tensor(1.00000e-03 *\n",
      "       -6.4378)\n",
      "\tgrad:  2.0 4.0 tensor(1.00000e-02 *\n",
      "       -2.5236)\n",
      "\tgrad:  3.0 6.0 tensor(1.00000e-02 *\n",
      "       -5.2239)\n",
      "progress: 9 tensor(1.00000e-05 *\n",
      "       7.5804)\n"
     ]
    }
   ],
   "source": [
    "for epoch in range(10):\n",
    "    for x_val, y_val in zip(x_data ,y_data):\n",
    "        l = loss(x_val, y_val)\n",
    "        l.backward()\n",
    "        print(\"\\tgrad: \", x_val, y_val, w.grad.data[0])\n",
    "        w.data = w.data - 0.01 * w.grad.data\n",
    "        w.grad.data.zero_()\n",
    "    print(\"progress:\", epoch, l.data[0])"
   ]
  },
  {
   "cell_type": "markdown",
   "metadata": {},
   "source": [
    "## After training"
   ]
  },
  {
   "cell_type": "code",
   "execution_count": 8,
   "metadata": {},
   "outputs": [
    {
     "name": "stdout",
     "output_type": "stream",
     "text": [
      "predict (after training) 4 tensor(7.9905)\n"
     ]
    }
   ],
   "source": [
    "print(\"predict (after training)\", 4, forward(4).data[0])"
   ]
  }
 ],
 "metadata": {
  "kernelspec": {
   "display_name": "PyTorch",
   "language": "python",
   "name": "pytorch"
  },
  "language_info": {
   "codemirror_mode": {
    "name": "ipython",
    "version": 3
   },
   "file_extension": ".py",
   "mimetype": "text/x-python",
   "name": "python",
   "nbconvert_exporter": "python",
   "pygments_lexer": "ipython3",
   "version": "3.6.5"
  }
 },
 "nbformat": 4,
 "nbformat_minor": 2
}
