{
 "cells": [
  {
   "cell_type": "code",
   "execution_count": 1,
   "metadata": {
    "collapsed": true
   },
   "outputs": [],
   "source": [
    "import torch\n",
    "from torch.autograd import Variable\n",
    "import numpy as np"
   ]
  },
  {
   "cell_type": "code",
   "execution_count": 2,
   "metadata": {},
   "outputs": [
    {
     "data": {
      "text/plain": [
       "array([[-0.294118 ,  0.487437 ,  0.180328 , ..., -0.53117  , -0.0333333,\n",
       "         0.       ],\n",
       "       [-0.882353 , -0.145729 ,  0.0819672, ..., -0.766866 , -0.666667 ,\n",
       "         1.       ],\n",
       "       [-0.0588235,  0.839196 ,  0.0491803, ..., -0.492741 , -0.633333 ,\n",
       "         0.       ],\n",
       "       ...,\n",
       "       [-0.411765 ,  0.21608  ,  0.180328 , ..., -0.857387 , -0.7      ,\n",
       "         1.       ],\n",
       "       [-0.882353 ,  0.266332 , -0.0163934, ..., -0.768574 , -0.133333 ,\n",
       "         0.       ],\n",
       "       [-0.882353 , -0.0653266,  0.147541 , ..., -0.797609 , -0.933333 ,\n",
       "         1.       ]], dtype=float32)"
      ]
     },
     "execution_count": 2,
     "metadata": {},
     "output_type": "execute_result"
    }
   ],
   "source": [
    "xy = np.loadtxt('./data/diabetes.csv.gz', delimiter=',', dtype=np.float32)\n",
    "xy"
   ]
  },
  {
   "cell_type": "code",
   "execution_count": 4,
   "metadata": {},
   "outputs": [],
   "source": [
    "x_data = Variable(torch.from_numpy(xy[:, 0:-1]))\n",
    "y_data = Variable(torch.from_numpy(xy[:, [-1]]))"
   ]
  },
  {
   "cell_type": "code",
   "execution_count": 5,
   "metadata": {},
   "outputs": [
    {
     "name": "stdout",
     "output_type": "stream",
     "text": [
      "x_data shape:torch.Size([759, 8]), y_data shape:torch.Size([759, 1])\n"
     ]
    }
   ],
   "source": [
    "print(\"x_data shape:{}, y_data shape:{}\".format(x_data.data.shape, y_data.data.shape))"
   ]
  },
  {
   "cell_type": "code",
   "execution_count": 6,
   "metadata": {
    "collapsed": true
   },
   "outputs": [],
   "source": [
    "class Model(torch.nn.Module):\n",
    "    def __init__(self):\n",
    "        super(Model, self).__init__()\n",
    "        self.l1 = torch.nn.Linear(8,6)\n",
    "        self.l2 = torch.nn.Linear(6,4)\n",
    "        self.l3 = torch.nn.Linear(4,1)\n",
    "        \n",
    "        self.sigmoid = torch.nn.Sigmoid()\n",
    "        \n",
    "    def forward(self, x):\n",
    "        out1 = self.sigmoid(self.l1(x))\n",
    "        out2 = self.sigmoid(self.l2(out1))\n",
    "        y_pred = self.sigmoid(self.l3(out2))\n",
    "        return y_pred\n",
    "\n",
    "model = Model()"
   ]
  },
  {
   "cell_type": "markdown",
   "metadata": {},
   "source": [
    "### 생성되는 모델 구조는 다음과 유사\n",
    "![diabets](./img/diabets.PNG)"
   ]
  },
  {
   "cell_type": "code",
   "execution_count": 7,
   "metadata": {
    "collapsed": true
   },
   "outputs": [],
   "source": [
    "criterion = torch.nn.BCELoss(size_average=True)\n",
    "optimizer = torch.optim.SGD(model.parameters(), lr=0.01)"
   ]
  },
  {
   "cell_type": "code",
   "execution_count": 8,
   "metadata": {
    "scrolled": true
   },
   "outputs": [
    {
     "name": "stdout",
     "output_type": "stream",
     "text": [
      "0 tensor(0.6821)\n",
      "1 tensor(0.6818)\n",
      "2 tensor(0.6815)\n",
      "3 tensor(0.6812)\n",
      "4 tensor(0.6809)\n",
      "5 tensor(0.6806)\n",
      "6 tensor(0.6803)\n",
      "7 tensor(0.6800)\n",
      "8 tensor(0.6798)\n",
      "9 tensor(0.6795)\n",
      "10 tensor(0.6792)\n",
      "11 tensor(0.6789)\n",
      "12 tensor(0.6786)\n",
      "13 tensor(0.6783)\n",
      "14 tensor(0.6781)\n",
      "15 tensor(0.6778)\n",
      "16 tensor(0.6775)\n",
      "17 tensor(0.6773)\n",
      "18 tensor(0.6770)\n",
      "19 tensor(0.6767)\n",
      "20 tensor(0.6765)\n",
      "21 tensor(0.6762)\n",
      "22 tensor(0.6760)\n",
      "23 tensor(0.6757)\n",
      "24 tensor(0.6754)\n",
      "25 tensor(0.6752)\n",
      "26 tensor(0.6750)\n",
      "27 tensor(0.6747)\n",
      "28 tensor(0.6745)\n",
      "29 tensor(0.6742)\n",
      "30 tensor(0.6740)\n",
      "31 tensor(0.6737)\n",
      "32 tensor(0.6735)\n",
      "33 tensor(0.6733)\n",
      "34 tensor(0.6730)\n",
      "35 tensor(0.6728)\n",
      "36 tensor(0.6726)\n",
      "37 tensor(0.6724)\n",
      "38 tensor(0.6721)\n",
      "39 tensor(0.6719)\n",
      "40 tensor(0.6717)\n",
      "41 tensor(0.6715)\n",
      "42 tensor(0.6713)\n",
      "43 tensor(0.6711)\n",
      "44 tensor(0.6708)\n",
      "45 tensor(0.6706)\n",
      "46 tensor(0.6704)\n",
      "47 tensor(0.6702)\n",
      "48 tensor(0.6700)\n",
      "49 tensor(0.6698)\n",
      "50 tensor(0.6696)\n",
      "51 tensor(0.6694)\n",
      "52 tensor(0.6692)\n",
      "53 tensor(0.6690)\n",
      "54 tensor(0.6688)\n",
      "55 tensor(0.6686)\n",
      "56 tensor(0.6684)\n",
      "57 tensor(0.6683)\n",
      "58 tensor(0.6681)\n",
      "59 tensor(0.6679)\n",
      "60 tensor(0.6677)\n",
      "61 tensor(0.6675)\n",
      "62 tensor(0.6673)\n",
      "63 tensor(0.6672)\n",
      "64 tensor(0.6670)\n",
      "65 tensor(0.6668)\n",
      "66 tensor(0.6666)\n",
      "67 tensor(0.6665)\n",
      "68 tensor(0.6663)\n",
      "69 tensor(0.6661)\n",
      "70 tensor(0.6659)\n",
      "71 tensor(0.6658)\n",
      "72 tensor(0.6656)\n",
      "73 tensor(0.6654)\n",
      "74 tensor(0.6653)\n",
      "75 tensor(0.6651)\n",
      "76 tensor(0.6650)\n",
      "77 tensor(0.6648)\n",
      "78 tensor(0.6646)\n",
      "79 tensor(0.6645)\n",
      "80 tensor(0.6643)\n",
      "81 tensor(0.6642)\n",
      "82 tensor(0.6640)\n",
      "83 tensor(0.6639)\n",
      "84 tensor(0.6637)\n",
      "85 tensor(0.6636)\n",
      "86 tensor(0.6634)\n",
      "87 tensor(0.6633)\n",
      "88 tensor(0.6631)\n",
      "89 tensor(0.6630)\n",
      "90 tensor(0.6629)\n",
      "91 tensor(0.6627)\n",
      "92 tensor(0.6626)\n",
      "93 tensor(0.6624)\n",
      "94 tensor(0.6623)\n",
      "95 tensor(0.6622)\n",
      "96 tensor(0.6620)\n",
      "97 tensor(0.6619)\n",
      "98 tensor(0.6618)\n",
      "99 tensor(0.6616)\n"
     ]
    },
    {
     "name": "stderr",
     "output_type": "stream",
     "text": [
      "D:\\Anaconda3\\envs\\pytorch\\lib\\site-packages\\ipykernel_launcher.py:5: UserWarning: invalid index of a 0-dim tensor. This will be an error in PyTorch 0.5. Use tensor.item() to convert a 0-dim tensor to a Python number\n",
      "  \"\"\"\n"
     ]
    }
   ],
   "source": [
    "for epoch in range(100):\n",
    "    y_pred = model(x_data)\n",
    "    \n",
    "    loss = criterion(y_pred, y_data)\n",
    "    print(epoch, loss.data[0])\n",
    "    \n",
    "    optimizer.zero_grad()\n",
    "    loss.backward()\n",
    "    optimizer.step()"
   ]
  }
 ],
 "metadata": {
  "kernelspec": {
   "display_name": "PyTorch",
   "language": "python",
   "name": "pytorch"
  },
  "language_info": {
   "codemirror_mode": {
    "name": "ipython",
    "version": 3
   },
   "file_extension": ".py",
   "mimetype": "text/x-python",
   "name": "python",
   "nbconvert_exporter": "python",
   "pygments_lexer": "ipython3",
   "version": "3.6.5"
  }
 },
 "nbformat": 4,
 "nbformat_minor": 2
}
